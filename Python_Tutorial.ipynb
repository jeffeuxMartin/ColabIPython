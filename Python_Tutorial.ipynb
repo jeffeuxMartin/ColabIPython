{
  "nbformat": 4,
  "nbformat_minor": 0,
  "metadata": {
    "colab": {
      "name": "Python Tutorial.ipynb",
      "provenance": [],
      "collapsed_sections": []
    },
    "kernelspec": {
      "name": "python3",
      "display_name": "Python 3"
    }
  },
  "cells": [
    {
      "cell_type": "code",
      "metadata": {
        "id": "dOhMYgVi7cL-"
      },
      "source": [
        "# Python Tut"
      ],
      "execution_count": null,
      "outputs": []
    },
    {
      "cell_type": "markdown",
      "metadata": {
        "id": "gJMO0XCxLW-G"
      },
      "source": [
        "# Python Tutorial\n",
        "\n",
        "1. 語法\n",
        "    - 運算\n",
        "    - 控制\n",
        "2. 結構\n",
        "    - 變數\n",
        "    - 函數\n",
        "    - 物件\n",
        "    - 模組\n",
        "3. 命令列"
      ]
    },
    {
      "cell_type": "code",
      "metadata": {
        "id": "thyv0NmJLrfl",
        "colab": {
          "base_uri": "https://localhost:8080/"
        },
        "outputId": "1789a907-7ee8-48ce-973b-b9fba46e81de"
      },
      "source": [
        "print(\"Hello world\")"
      ],
      "execution_count": null,
      "outputs": [
        {
          "output_type": "stream",
          "text": [
            "Hello world\n"
          ],
          "name": "stdout"
        }
      ]
    },
    {
      "cell_type": "code",
      "metadata": {
        "id": "qPUEF9smLvdV",
        "colab": {
          "base_uri": "https://localhost:8080/"
        },
        "outputId": "7a7a6708-80bc-46c5-ca18-04c198d5ee8d"
      },
      "source": [
        "print(1 + 1)"
      ],
      "execution_count": null,
      "outputs": [
        {
          "output_type": "stream",
          "text": [
            "2\n"
          ],
          "name": "stdout"
        }
      ]
    },
    {
      "cell_type": "code",
      "metadata": {
        "colab": {
          "base_uri": "https://localhost:8080/"
        },
        "id": "Y0pR6pfRMLEx",
        "outputId": "d5771881-8bef-4f24-dfb1-b5954edc38be"
      },
      "source": [
        "print(1 + 3)\n",
        "print(5 - 3)\n",
        "print(13 * 2)\n",
        "print(256 / 16)\n",
        "print(54 % 7)\n",
        "print(54 // 7)\n",
        "print(13 ** 2)"
      ],
      "execution_count": null,
      "outputs": [
        {
          "output_type": "stream",
          "text": [
            "4\n",
            "2\n",
            "26\n",
            "16.0\n",
            "5\n",
            "7\n",
            "169\n"
          ],
          "name": "stdout"
        }
      ]
    },
    {
      "cell_type": "code",
      "metadata": {
        "colab": {
          "base_uri": "https://localhost:8080/"
        },
        "id": "h858vF9bMUf_",
        "outputId": "5c1d7ee3-2ab4-4710-b43c-cf070cd04ce8"
      },
      "source": [
        "print(\"Line 1\\nLine 2\")\n",
        "print(\"Column 1\\tColumn 2\")"
      ],
      "execution_count": null,
      "outputs": [
        {
          "output_type": "stream",
          "text": [
            "Line 1\n",
            "Line 2\n",
            "Column 1\tColumn 2\n"
          ],
          "name": "stdout"
        }
      ]
    },
    {
      "cell_type": "code",
      "metadata": {
        "colab": {
          "base_uri": "https://localhost:8080/"
        },
        "id": "Grj3P4xaMfd8",
        "outputId": "5fbba6a3-b8ae-4630-ea5b-c0d37fb1fdd0"
      },
      "source": [
        "print()"
      ],
      "execution_count": null,
      "outputs": [
        {
          "output_type": "stream",
          "text": [
            "\n"
          ],
          "name": "stdout"
        }
      ]
    },
    {
      "cell_type": "code",
      "metadata": {
        "colab": {
          "base_uri": "https://localhost:8080/"
        },
        "id": "u_iZv7DnMhV-",
        "outputId": "1f86afea-93f4-43aa-bd1e-6c14e03aad1e"
      },
      "source": [
        "print('single quote')\n",
        "print(\"double quote\")\n",
        "print(\"\"\"triple quote (double)\"\"\")\n",
        "print('''triple quote (single)''')\n",
        "print(\"\"\"triple quote also called docstring\n",
        "It will remain all texts inside, including newlines.\"\"\")"
      ],
      "execution_count": null,
      "outputs": [
        {
          "output_type": "stream",
          "text": [
            "single quote\n",
            "double quote\n",
            "triple quote (double)\n",
            "triple quote (single)\n",
            "triple quote also called docstring\n",
            "It will remain all texts inside, including newlines.\n"
          ],
          "name": "stdout"
        }
      ]
    },
    {
      "cell_type": "code",
      "metadata": {
        "colab": {
          "base_uri": "https://localhost:8080/"
        },
        "id": "77970e0HM25X",
        "outputId": "df9c5f81-7119-4c4d-c403-a3b9d6b4d3d7"
      },
      "source": [
        "print(\"17 * 32 =\", 17 * 32)"
      ],
      "execution_count": null,
      "outputs": [
        {
          "output_type": "stream",
          "text": [
            "17 * 32 = 544\n"
          ],
          "name": "stdout"
        }
      ]
    },
    {
      "cell_type": "code",
      "metadata": {
        "id": "j1gawc3hM7N9"
      },
      "source": [
        "# > < --> if"
      ],
      "execution_count": null,
      "outputs": []
    },
    {
      "cell_type": "code",
      "metadata": {
        "colab": {
          "base_uri": "https://localhost:8080/"
        },
        "id": "RT-TOY9DNCrs",
        "outputId": "c5f66c48-1213-48ef-8c88-2f241c4e1bc3"
      },
      "source": [
        "# 控制\n",
        "if 2 > 1:\n",
        "    print(\"2 is greater than 1.\")"
      ],
      "execution_count": null,
      "outputs": [
        {
          "output_type": "stream",
          "text": [
            "2 is greater than 1.\n"
          ],
          "name": "stdout"
        }
      ]
    },
    {
      "cell_type": "code",
      "metadata": {
        "id": "oc9oMKKrNIaX"
      },
      "source": [
        "if 1 > 2:\n",
        "    print(\"1 is greater than 2.\")"
      ],
      "execution_count": null,
      "outputs": []
    },
    {
      "cell_type": "code",
      "metadata": {
        "colab": {
          "base_uri": "https://localhost:8080/"
        },
        "id": "VbXI323VNMeM",
        "outputId": "53aa07f4-cade-4ef3-efe1-4a1b6e4297fb"
      },
      "source": [
        "if 1 > 2:\n",
        "    print(\"1 is greater than 2.\")\n",
        "else:\n",
        "    print(\"It's not!\")  # notice single quote in double-quoted string"
      ],
      "execution_count": null,
      "outputs": [
        {
          "output_type": "stream",
          "text": [
            "It's not!\n"
          ],
          "name": "stdout"
        }
      ]
    },
    {
      "cell_type": "code",
      "metadata": {
        "id": "8anrY4ncNSDV"
      },
      "source": [
        "if 1 > 1:\n",
        "    print(\"1 > 1\")\n",
        "elif 1 == 1:\n",
        "    print(\"1 == 1\")\n",
        "else:\n",
        "    print(\"1 < 1\")"
      ],
      "execution_count": null,
      "outputs": []
    },
    {
      "cell_type": "code",
      "metadata": {
        "id": "lkYprZlkpBEL"
      },
      "source": [
        "a = 5\n",
        "b = \"hello\"\n",
        "c = 1.2\n",
        "d = 1 + 2j"
      ],
      "execution_count": null,
      "outputs": []
    },
    {
      "cell_type": "code",
      "metadata": {
        "colab": {
          "base_uri": "https://localhost:8080/"
        },
        "id": "JjATEuiLpRr_",
        "outputId": "de737930-cbbc-4042-91e4-32c8bc4266ff"
      },
      "source": [
        "d"
      ],
      "execution_count": null,
      "outputs": [
        {
          "output_type": "execute_result",
          "data": {
            "text/plain": [
              "(1+2j)"
            ]
          },
          "metadata": {
            "tags": []
          },
          "execution_count": 2
        }
      ]
    },
    {
      "cell_type": "code",
      "metadata": {
        "id": "gomNRsgdpSRa"
      },
      "source": [
        "e = 'good'\n",
        "f = \"\"\"This is\n",
        "better.\"\"\""
      ],
      "execution_count": null,
      "outputs": []
    },
    {
      "cell_type": "code",
      "metadata": {
        "id": "ViY-sxnPpUqx"
      },
      "source": [
        "g = True\n",
        "h = False"
      ],
      "execution_count": null,
      "outputs": []
    },
    {
      "cell_type": "code",
      "metadata": {
        "colab": {
          "base_uri": "https://localhost:8080/"
        },
        "id": "ghS6zBwsp9to",
        "outputId": "559b784f-f63e-4c3d-ef38-7291d5b4c831"
      },
      "source": [
        "k = a + 3\n",
        "print(k)"
      ],
      "execution_count": null,
      "outputs": [
        {
          "output_type": "stream",
          "text": [
            "8\n"
          ],
          "name": "stdout"
        }
      ]
    },
    {
      "cell_type": "code",
      "metadata": {
        "colab": {
          "base_uri": "https://localhost:8080/"
        },
        "id": "xuC9XaaGqAjT",
        "outputId": "04794f5d-4c0f-476f-f89f-7dd40709633c"
      },
      "source": [
        "l = b + \" everybody\"\n",
        "print(l)"
      ],
      "execution_count": null,
      "outputs": [
        {
          "output_type": "stream",
          "text": [
            "hello everybody\n"
          ],
          "name": "stdout"
        }
      ]
    },
    {
      "cell_type": "code",
      "metadata": {
        "id": "mAT1sT6iqD65"
      },
      "source": [
        ""
      ],
      "execution_count": null,
      "outputs": []
    },
    {
      "cell_type": "code",
      "metadata": {
        "id": "Wg-udApBpVyK"
      },
      "source": [
        "# Text Type:\tstr\n",
        "# Numeric Types:\tint, float, complex\n",
        "# Sequence Types:\tlist, tuple, range\n",
        "# Mapping Type:\tdict\n",
        "# Set Types:\tset, frozenset\n",
        "# Boolean Type:\tbool\n",
        "# Binary Types:\tbytes, bytearray, memoryview"
      ],
      "execution_count": null,
      "outputs": []
    },
    {
      "cell_type": "code",
      "metadata": {
        "colab": {
          "base_uri": "https://localhost:8080/"
        },
        "id": "F2RvK5RwpoND",
        "outputId": "72f2d3c7-52b7-4074-939c-f50f5578c400"
      },
      "source": [
        "i = 0\n",
        "if i < 3:\n",
        "    print(\"i < 3\")\n",
        "else:\n",
        "    print(\"i >= 3\")"
      ],
      "execution_count": null,
      "outputs": [
        {
          "output_type": "stream",
          "text": [
            "i < 3\n"
          ],
          "name": "stdout"
        }
      ]
    },
    {
      "cell_type": "code",
      "metadata": {
        "colab": {
          "base_uri": "https://localhost:8080/"
        },
        "id": "pgDfv47FzXj7",
        "outputId": "84499bc5-0f86-49a0-fa5d-4f6ed9b60389"
      },
      "source": [
        "print(i < 3)\n",
        "# the compare returns a bool value"
      ],
      "execution_count": null,
      "outputs": [
        {
          "output_type": "stream",
          "text": [
            "True\n"
          ],
          "name": "stdout"
        }
      ]
    },
    {
      "cell_type": "code",
      "metadata": {
        "id": "oNuFQ9MTzaAq"
      },
      "source": [
        ""
      ],
      "execution_count": null,
      "outputs": []
    },
    {
      "cell_type": "code",
      "metadata": {
        "colab": {
          "base_uri": "https://localhost:8080/"
        },
        "id": "U_qLMMXjp01B",
        "outputId": "0177b16a-cb74-4970-b11e-592db50b7944"
      },
      "source": [
        "while i < 3:\n",
        "    print(i)\n",
        "    i = i + 1"
      ],
      "execution_count": null,
      "outputs": [
        {
          "output_type": "stream",
          "text": [
            "0\n",
            "1\n",
            "2\n"
          ],
          "name": "stdout"
        }
      ]
    },
    {
      "cell_type": "code",
      "metadata": {
        "colab": {
          "base_uri": "https://localhost:8080/"
        },
        "id": "Q4AFyF82p8bU",
        "outputId": "a2805083-aae2-4239-965a-1557bca4b6d0"
      },
      "source": [
        "# repeat 3 times\n",
        "for i in range(3):\n",
        "    print(i)"
      ],
      "execution_count": null,
      "outputs": [
        {
          "output_type": "stream",
          "text": [
            "0\n",
            "1\n",
            "2\n"
          ],
          "name": "stdout"
        }
      ]
    },
    {
      "cell_type": "code",
      "metadata": {
        "colab": {
          "base_uri": "https://localhost:8080/"
        },
        "id": "m1KDvncTqIUk",
        "outputId": "bcd5006b-80a3-45d7-d287-bc94471f3b30"
      },
      "source": [
        "# list\n",
        "a = [1, 5, 7]\n",
        "print(a[0])"
      ],
      "execution_count": null,
      "outputs": [
        {
          "output_type": "stream",
          "text": [
            "1\n"
          ],
          "name": "stdout"
        }
      ]
    },
    {
      "cell_type": "code",
      "metadata": {
        "colab": {
          "base_uri": "https://localhost:8080/"
        },
        "id": "OETjoBH4y4cl",
        "outputId": "1daee573-3abf-48e0-a268-a05a730d6fcc"
      },
      "source": [
        "for i in a:\n",
        "    print(i)"
      ],
      "execution_count": null,
      "outputs": [
        {
          "output_type": "stream",
          "text": [
            "1\n",
            "5\n",
            "7\n"
          ],
          "name": "stdout"
        }
      ]
    },
    {
      "cell_type": "code",
      "metadata": {
        "colab": {
          "base_uri": "https://localhost:8080/"
        },
        "id": "8H56Khlyy6LV",
        "outputId": "67bac019-3e1e-44c2-947f-cddcb052a035"
      },
      "source": [
        "# dict\n",
        "b = {\"x\": 3, \"y\": 7, \"z\": 12}\n",
        "print(b[\"y\"])"
      ],
      "execution_count": null,
      "outputs": [
        {
          "output_type": "stream",
          "text": [
            "7\n"
          ],
          "name": "stdout"
        }
      ]
    },
    {
      "cell_type": "code",
      "metadata": {
        "colab": {
          "base_uri": "https://localhost:8080/"
        },
        "id": "Kar5DbaxzBMV",
        "outputId": "72e15fe2-6c88-4e0d-b8f2-ec88bdcbb1bb"
      },
      "source": [
        "for j in b:\n",
        "    print(j)\n",
        "    print(b[j])"
      ],
      "execution_count": null,
      "outputs": [
        {
          "output_type": "stream",
          "text": [
            "x\n",
            "3\n",
            "y\n",
            "7\n",
            "z\n",
            "12\n"
          ],
          "name": "stdout"
        }
      ]
    },
    {
      "cell_type": "code",
      "metadata": {
        "colab": {
          "base_uri": "https://localhost:8080/"
        },
        "id": "qN_YF01JzCw8",
        "outputId": "10014213-4533-429a-8a2c-be5c1c322b35"
      },
      "source": [
        "# set\n",
        "c = {3, 5, 4}\n",
        "# the set does not preserve order\n",
        "for k in c:\n",
        "    print(k)"
      ],
      "execution_count": null,
      "outputs": [
        {
          "output_type": "stream",
          "text": [
            "3\n",
            "4\n",
            "5\n"
          ],
          "name": "stdout"
        }
      ]
    },
    {
      "cell_type": "code",
      "metadata": {
        "id": "JXCamAYhzU6U"
      },
      "source": [
        ""
      ],
      "execution_count": null,
      "outputs": []
    },
    {
      "cell_type": "code",
      "metadata": {
        "colab": {
          "base_uri": "https://localhost:8080/"
        },
        "id": "FfWfiUSCzLEN",
        "outputId": "86643080-a358-4231-eb62-eb639b1a124c"
      },
      "source": [
        "print([1, 2, 3] == [1, 3, 2])\n",
        "print({1, 2, 3} == {1, 3, 2})"
      ],
      "execution_count": null,
      "outputs": [
        {
          "output_type": "stream",
          "text": [
            "False\n",
            "True\n"
          ],
          "name": "stdout"
        }
      ]
    },
    {
      "cell_type": "code",
      "metadata": {
        "id": "b22HeHfmzUCI"
      },
      "source": [
        "# immutable datatypes\n",
        "# tuple\n",
        "j = (2, 3)\n",
        "# frozenset\n",
        "k = frozenset((5, 4))"
      ],
      "execution_count": null,
      "outputs": []
    },
    {
      "cell_type": "markdown",
      "metadata": {
        "id": "nwh0_yaLz_gb"
      },
      "source": [
        "## Functions"
      ]
    },
    {
      "cell_type": "code",
      "metadata": {
        "colab": {
          "base_uri": "https://localhost:8080/"
        },
        "id": "6YpAAE2y0JBE",
        "outputId": "97db12d8-2869-4f05-ecd0-abc37813fd66"
      },
      "source": [
        "def add(x, y):\n",
        "    return x + y\n",
        "\n",
        "print(add(1, 2))"
      ],
      "execution_count": null,
      "outputs": [
        {
          "output_type": "stream",
          "text": [
            "3\n"
          ],
          "name": "stdout"
        }
      ]
    },
    {
      "cell_type": "code",
      "metadata": {
        "colab": {
          "base_uri": "https://localhost:8080/"
        },
        "id": "j0qRb-1g0MvO",
        "outputId": "83c58d2f-bdfd-4f4a-c2cd-b4bbfc85015c"
      },
      "source": [
        "def add1(x, y=3):\n",
        "    print(\"x is ...\")\n",
        "    print(x)\n",
        "    return x + y\n",
        "\n",
        "print(add1(3, 5))\n",
        "print(add1(5))\n",
        "print(add1(x=3, y=7))\n",
        "print(add1(y=12, x=-5))"
      ],
      "execution_count": null,
      "outputs": [
        {
          "output_type": "stream",
          "text": [
            "x is ...\n",
            "3\n",
            "8\n",
            "x is ...\n",
            "5\n",
            "8\n",
            "x is ...\n",
            "3\n",
            "10\n",
            "x is ...\n",
            "-5\n",
            "7\n"
          ],
          "name": "stdout"
        }
      ]
    },
    {
      "cell_type": "code",
      "metadata": {
        "colab": {
          "base_uri": "https://localhost:8080/"
        },
        "id": "v9RgCkCp0aKv",
        "outputId": "631aa330-6233-4a33-e30b-689d76c75f22"
      },
      "source": [
        "# print is a function\n",
        "# print(value, ..., \n",
        "#       sep=' ', \n",
        "#       end='\\n',\n",
        "#       file=sys.stdout, \n",
        "#       flush=False)\n",
        "print(3, 5)\n",
        "print(4, 5, sep='$$')\n",
        "print(3, 5, end='p')  # no newline"
      ],
      "execution_count": null,
      "outputs": [
        {
          "output_type": "stream",
          "text": [
            "3 5\n",
            "4$$5\n",
            "3 5p"
          ],
          "name": "stdout"
        }
      ]
    },
    {
      "cell_type": "code",
      "metadata": {
        "colab": {
          "base_uri": "https://localhost:8080/"
        },
        "id": "ph4BtSoB0sow",
        "outputId": "5f904d93-c741-4707-ec84-9889ca1c47a2"
      },
      "source": [
        "# Better printing\n",
        "def add1(x, y=3):\n",
        "    print(\"x is ...\", x)\n",
        "    return x + y\n",
        "\n",
        "print(add1(3, 5))\n",
        "print(add1(5))\n",
        "print(add1(x=3, y=7))\n",
        "print(add1(y=12, x=-5))"
      ],
      "execution_count": null,
      "outputs": [
        {
          "output_type": "stream",
          "text": [
            "x is ... 3\n",
            "8\n",
            "x is ... 5\n",
            "8\n",
            "x is ... 3\n",
            "10\n",
            "x is ... -5\n",
            "7\n"
          ],
          "name": "stdout"
        }
      ]
    },
    {
      "cell_type": "code",
      "metadata": {
        "colab": {
          "base_uri": "https://localhost:8080/"
        },
        "id": "2oZnq-aO1B74",
        "outputId": "a9be6276-1a1c-4fab-8b92-f7d5c9fca750"
      },
      "source": [
        "x = 5\n",
        "# string formatting\n",
        "print(\"a\" + \"b\")\n",
        "print(\"x is\", x)\n",
        "print(\"x is \" + str(x))\n",
        "print(\"x is {}\".format(x))\n",
        "print(\"x is {0}\".format(x))\n",
        "print(f\"x is {x}\")\n",
        "print(\"x is {:3d}\".format(x))\n",
        "print(f\"x is {x:3d}\")"
      ],
      "execution_count": null,
      "outputs": [
        {
          "output_type": "stream",
          "text": [
            "ab\n",
            "x is 5\n",
            "x is 5\n",
            "x is 5\n",
            "x is 5\n",
            "x is 5\n",
            "x is   5\n",
            "x is   5\n"
          ],
          "name": "stdout"
        }
      ]
    },
    {
      "cell_type": "code",
      "metadata": {
        "id": "eIVkslsB1UHV"
      },
      "source": [
        "def func(a1, a2, *args, **kwargs):\n",
        "    print(f\"a1 is {a1}.\")\n",
        "    print(f\"a2 is {a2}.\")\n",
        "    print(f\"args is {args}.\")\n",
        "    print(f\"kwargs is {kwargs}.\")"
      ],
      "execution_count": null,
      "outputs": []
    },
    {
      "cell_type": "code",
      "metadata": {
        "colab": {
          "base_uri": "https://localhost:8080/"
        },
        "id": "aa_aPYgH11Lf",
        "outputId": "032ffc3e-2337-4f07-b991-e4bf632ff5da"
      },
      "source": [
        "func(2, \"fellow\", 3, 5, a=3, b=[3, 4])"
      ],
      "execution_count": null,
      "outputs": [
        {
          "output_type": "stream",
          "text": [
            "a1 is 2.\n",
            "a2 is fellow.\n",
            "args is (3, 5).\n",
            "kwargs is {'a': 3, 'b': [3, 4]}.\n"
          ],
          "name": "stdout"
        }
      ]
    },
    {
      "cell_type": "code",
      "metadata": {
        "id": "WMiFCPJo15-h"
      },
      "source": [
        "# or help(func)\n",
        "func?"
      ],
      "execution_count": null,
      "outputs": []
    },
    {
      "cell_type": "code",
      "metadata": {
        "id": "nRoEWUe-1_IA"
      },
      "source": [
        "# def func(a, b, /, c, d, *, e)"
      ],
      "execution_count": null,
      "outputs": []
    },
    {
      "cell_type": "code",
      "metadata": {
        "colab": {
          "base_uri": "https://localhost:8080/"
        },
        "id": "QYNI-CJr2MCz",
        "outputId": "8278c888-7821-4669-cd45-84daf55b65ec"
      },
      "source": [
        "class Car:\n",
        "    def __init__(self, x=5):\n",
        "        self.x = x\n",
        "\n",
        "vios = Car(3)\n",
        "print(vios.x)"
      ],
      "execution_count": null,
      "outputs": [
        {
          "output_type": "stream",
          "text": [
            "3\n"
          ],
          "name": "stdout"
        }
      ]
    },
    {
      "cell_type": "code",
      "metadata": {
        "colab": {
          "base_uri": "https://localhost:8080/"
        },
        "id": "FSykYz9R2VwM",
        "outputId": "7e2b9623-c0c0-46e8-8704-1c425cf86e87"
      },
      "source": [
        "class Tesla(Car):\n",
        "    def __init__(self, y=7):\n",
        "        super(Tesla, self).__init__()\n",
        "        self.y = y\n",
        "\n",
        "elonmusk = Tesla()\n",
        "print(elonmusk.x)\n",
        "print(elonmusk.y)"
      ],
      "execution_count": null,
      "outputs": [
        {
          "output_type": "stream",
          "text": [
            "5\n",
            "7\n"
          ],
          "name": "stdout"
        }
      ]
    },
    {
      "cell_type": "code",
      "metadata": {
        "id": "OOKLeUe42fWm"
      },
      "source": [
        "# import module"
      ],
      "execution_count": null,
      "outputs": []
    },
    {
      "cell_type": "code",
      "metadata": {
        "id": "9f34Z5fl2f2O"
      },
      "source": [
        "# CLI"
      ],
      "execution_count": null,
      "outputs": []
    },
    {
      "cell_type": "code",
      "metadata": {
        "id": "2HuFHbEd4n2Q"
      },
      "source": [
        ""
      ],
      "execution_count": null,
      "outputs": []
    }
  ]
}